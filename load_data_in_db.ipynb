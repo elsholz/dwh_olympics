{
 "cells": [
  {
   "cell_type": "code",
   "execution_count": 1,
   "metadata": {},
   "outputs": [
    {
     "data": {
      "text/html": [
       "<style>.container { width:100% !important; }</style>"
      ],
      "text/plain": [
       "<IPython.core.display.HTML object>"
      ]
     },
     "metadata": {},
     "output_type": "display_data"
    }
   ],
   "source": [
    "import pandas as pd\n",
    "from pymongo import MongoClient\n",
    "\n",
    "from IPython.core.display import display, HTML\n",
    "[display(HTML(\"<style>.container { width:100% !important; }</style>\"))];"
   ]
  },
  {
   "cell_type": "code",
   "execution_count": 2,
   "metadata": {},
   "outputs": [],
   "source": [
    "with MongoClient('mongodb://localhost:27017/') as client:\n",
    "    database = client[\"dwh\"]\n",
    "    \n",
    "    country_code_collection = database['country_codes']\n",
    "    country_code_collection.drop()\n",
    "    country_code_collection.insert_many([\n",
    "        {data['country']: {'who': data['code_who'], 'noc': data['code_noc']}}\n",
    "        for _, data in pd.read_csv('data/country_codes.csv').iterrows()\n",
    "    ])\n",
    "    \n",
    "    who_ppp_collection = database['who_ppp_2017']\n",
    "    who_ppp_collection.drop()\n",
    "    data = []\n",
    "    who_ppp_pc, who_ppp_abs = pd.read_csv('data/ppp_2017_abs.csv'), pd.read_csv('data/ppp_2017_pc.csv')\n",
    "    for _, row in who_ppp_pc.iterrows():\n",
    "        data.append({row['Country Code']: {'pc': float(row['Value']), 'abs': float(who_ppp_abs[who_ppp_abs['Country Code'] == row['Country Code']]['Value'])}})\n",
    "    who_ppp_collection.insert_many(data)\n",
    "\n",
    "    medal_wins_collection = database['medal_wins']\n",
    "    medal_wins_collection.drop()\n",
    "    wins_by_noc = {}\n",
    "    for _, row in pd.read_csv('data/medal_wins.csv').iterrows():\n",
    "        wins_by_noc[noc] = wins_by_noc.get((noc := str(row['NOC'])), []) + [row[['Name', 'Year', 'Sport', 'Medal']]]\n",
    "    medal_wins_collection.insert_many([{k: list({'name': x[0], 'year': x[1], 'sport': x[2], 'medal': x[3]} for x in v)} for k, v in wins_by_noc.items()])"
   ]
  }
 ],
 "metadata": {
  "kernelspec": {
   "display_name": "PyCharm (data_analytics)",
   "language": "python",
   "name": "pycharm-caae33a3"
  },
  "language_info": {
   "codemirror_mode": {
    "name": "ipython",
    "version": 3
   },
   "file_extension": ".py",
   "mimetype": "text/x-python",
   "name": "python",
   "nbconvert_exporter": "python",
   "pygments_lexer": "ipython3",
   "version": "3.8.3"
  }
 },
 "nbformat": 4,
 "nbformat_minor": 4
}
