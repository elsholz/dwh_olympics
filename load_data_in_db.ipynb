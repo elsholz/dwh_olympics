{
 "cells": [
  {
   "cell_type": "code",
   "execution_count": 1,
   "metadata": {},
   "outputs": [
    {
     "data": {
      "text/html": [
       "<style>.container { width:100% !important; }</style>"
      ],
      "text/plain": [
       "<IPython.core.display.HTML object>"
      ]
     },
     "metadata": {},
     "output_type": "display_data"
    }
   ],
   "source": [
    "import pandas as pd\n",
    "from pymongo import MongoClient\n",
    "\n",
    "from IPython.core.display import display, HTML\n",
    "[display(HTML(\"<style>.container { width:100% !important; }</style>\"))];"
   ]
  },
  {
   "cell_type": "code",
   "execution_count": 2,
   "metadata": {},
   "outputs": [],
   "source": [
    "with MongoClient('mongodb://localhost:27017/') as client:\n",
    "    database = client[\"dwh\"]\n",
    "    \n",
    "    country_code_collection = database['country_codes']\n",
    "    country_code_collection.drop()\n",
    "    country_code_collection.insert_many([\n",
    "        {'country': data['country'], 'code': {'who': data['code_who'], 'noc': data['code_noc']}}\n",
    "        for _, data in pd.read_csv('data/country_codes.csv').iterrows()\n",
    "    ])"
   ]
  },
  {
   "cell_type": "code",
   "execution_count": 3,
   "metadata": {},
   "outputs": [],
   "source": [
    "with MongoClient('mongodb://localhost:27017/') as client:\n",
    "    database = client[\"dwh\"]\n",
    "    \n",
    "    who_ppp_collection = database['who_ppp_2017']\n",
    "    who_ppp_collection.drop()\n",
    "    data = []\n",
    "    who_ppp_pc, who_ppp_abs = pd.read_csv('data/ppp_2017_pc.csv'), pd.read_csv('data/ppp_2017_abs.csv')\n",
    "    for _, row in who_ppp_pc.iterrows():\n",
    "        data.append({'cc': row['Country Code'], 'ppp': {'pc': float(row['Value']), 'abs': float(who_ppp_abs[who_ppp_abs['Country Code'] == row['Country Code']]['Value'])}})\n",
    "    who_ppp_collection.insert_many(data)"
   ]
  },
  {
   "cell_type": "code",
   "execution_count": 4,
   "metadata": {},
   "outputs": [],
   "source": [
    "with MongoClient('mongodb://localhost:27017/') as client:\n",
    "    database = client[\"dwh\"]\n",
    "    \n",
    "    medal_wins_collection = database['medal_wins']\n",
    "    medal_wins_collection.drop()\n",
    "    wins_by_noc = {}\n",
    "    for _, row in pd.read_csv('data/medal_wins.csv').iterrows():\n",
    "        wins_by_noc[noc] = wins_by_noc.get((noc := str(row['NOC'])), []) + [row[['Name', 'Year', 'Sport', 'Medal']]]\n",
    "    medal_wins_collection.insert_many([{'noc': k, 'wins': list({'name': x[0], 'year': x[1], 'sport': x[2], 'medal': x[3]} for x in v)} for k, v in wins_by_noc.items()])"
   ]
  },
  {
   "cell_type": "code",
   "execution_count": 5,
   "metadata": {},
   "outputs": [],
   "source": [
    "with MongoClient('mongodb://localhost:27017/') as client:\n",
    "    database = client[\"dwh\"]\n",
    "    \n",
    "    aggregated_data_collection = database['aggregated_data']\n",
    "    aggregated_data_collection.drop()\n",
    "    aggregated_data = []\n",
    "    \n",
    "    for country_code in country_code_collection.find():\n",
    "        aggregated_data.append({\n",
    "            'country': country_code['country'],\n",
    "            'code': {\n",
    "                'who': (cc_who := country_code['code']['who']),\n",
    "                'noc': (cc_noc := country_code['code']['noc'])\n",
    "            },\n",
    "            'medal_wins': {\n",
    "                'bronze': {\n",
    "                    'by_year': (bronze := {\n",
    "                        str(year): len(list(w for w in (medal_wins_collection.find_one({'noc': {'$eq': cc_noc}}) or {'wins': []})['wins'] if w['year'] == year and w['medal'] == 'Bronze')) \n",
    "                        for year in set(x['year'] for x in (medal_wins_collection.find_one({'noc': {'$eq': cc_noc}}) or {'wins': []})['wins'])\n",
    "                    }),\n",
    "                    'sum': sum(bronze.values())\n",
    "                },\n",
    "                'silver': {\n",
    "                    'by_year': (silver := {\n",
    "                        str(year): len(list(w for w in (medal_wins_collection.find_one({'noc': {'$eq': cc_noc}}) or {'wins': []})['wins'] if w['year'] == year and w['medal'] == 'Silver')) \n",
    "                        for year in set(x['year'] for x in (medal_wins_collection.find_one({'noc': {'$eq': cc_noc}}) or {'wins': []})['wins'])\n",
    "                    }),\n",
    "                    'sum': sum(silver.values())\n",
    "                },\n",
    "                'gold': {\n",
    "                    'by_year': (gold := {\n",
    "                        str(year): len(list(w for w in (medal_wins_collection.find_one({'noc': {'$eq': cc_noc}}) or {'wins': []})['wins'] if w['year'] == year and w['medal'] == 'Gold')) \n",
    "                        for year in set(x['year'] for x in (medal_wins_collection.find_one({'noc': {'$eq': cc_noc}}) or {'wins': []})['wins'])\n",
    "                    }),\n",
    "                    'sum': sum(gold.values())\n",
    "                }\n",
    "            },\n",
    "            'health_expenditures': {\n",
    "                'per_capita': (ppp := who_ppp_collection.find_one({'cc': {'$eq': cc_who}})['ppp'])['pc'],\n",
    "                'absolute': ppp['abs'],\n",
    "            }\n",
    "        }) \n",
    "        \n",
    "    aggregated_data_collection.insert_many(aggregated_data)"
   ]
  }
 ],
 "metadata": {
  "kernelspec": {
   "display_name": "PyCharm (data_analytics)",
   "language": "python",
   "name": "pycharm-caae33a3"
  },
  "language_info": {
   "codemirror_mode": {
    "name": "ipython",
    "version": 3
   },
   "file_extension": ".py",
   "mimetype": "text/x-python",
   "name": "python",
   "nbconvert_exporter": "python",
   "pygments_lexer": "ipython3",
   "version": "3.8.3"
  }
 },
 "nbformat": 4,
 "nbformat_minor": 4
}
