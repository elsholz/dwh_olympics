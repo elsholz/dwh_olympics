{
 "cells": [
  {
   "cell_type": "code",
   "execution_count": 1,
   "metadata": {},
   "outputs": [],
   "source": [
    "import pandas as pd\n",
    "import numpy as np\n",
    "import pprint\n",
    "import ipywidgets as widgets\n",
    "from ipywidgets import interact\n",
    "import matplotlib.pyplot as plt\n",
    "import math\n",
    "from pylab import rcParams\n",
    "rcParams['figure.figsize'] = 25, 13"
   ]
  },
  {
   "cell_type": "code",
   "execution_count": 2,
   "metadata": {},
   "outputs": [
    {
     "data": {
      "text/html": [
       "<style>.container { width:100% !important; }</style>"
      ],
      "text/plain": [
       "<IPython.core.display.HTML object>"
      ]
     },
     "metadata": {},
     "output_type": "display_data"
    }
   ],
   "source": [
    "from pymongo import MongoClient\n",
    "\n",
    "from IPython.core.display import display, HTML\n",
    "[display(HTML(\"<style>.container { width:100% !important; }</style>\"))];"
   ]
  },
  {
   "cell_type": "code",
   "execution_count": 3,
   "metadata": {},
   "outputs": [],
   "source": [
    "with MongoClient('mongodb://localhost:27017/') as client:\n",
    "    database = client[\"dwh\"]\n",
    "    aggregated_data = database.aggregated_data\n",
    "    country_codes = database.country_codes\n",
    "    medal_wins = database.medal_wins\n",
    "    who_ppp_2017 = database.who_ppp_2017"
   ]
  },
  {
   "cell_type": "code",
   "execution_count": 4,
   "metadata": {},
   "outputs": [],
   "source": [
    "def out(Country):\n",
    "    #return list(aggregated_data.find({\"country\": Country}))\n",
    "    #values = list(aggregated_data.find({\"country\": 'Germany'}))[0]['medal_wins']['gold']['by_year']\n",
    "    data = aggregated_data.find({\"country\": Country})\n",
    "    x_values, y_values = get_medals(data)\n",
    "    show_graph(x_values, y_values)\n",
    "    return 0"
   ]
  },
  {
   "cell_type": "code",
   "execution_count": 5,
   "metadata": {},
   "outputs": [],
   "source": [
    "def get_medals(data):\n",
    "    # Get all gold medals, sorting the dict\n",
    "    dict_gold = data[0]['medal_wins']['gold']['by_year']\n",
    "    dict_gold = {k: dict_gold[k] for k in sorted(dict_gold.keys(), key=lambda x: int(x))}\n",
    "    \n",
    "    # Get all silver medals, sorting the dict\n",
    "    dict_silver = data[0]['medal_wins']['silver']['by_year']\n",
    "    dict_silver = {k: dict_silver[k] for k in sorted(dict_silver.keys(), key=lambda x: int(x))}\n",
    "    \n",
    "    # Get all bronze medals, sorting the dict\n",
    "    dict_bronze = data[0]['medal_wins']['bronze']['by_year']\n",
    "    dict_bronze = {k: dict_bronze[k] for k in sorted(dict_bronze.keys(), key=lambda x: int(x))}\n",
    "    \n",
    "    \n",
    "    # Defining x and y values for the graph\n",
    "    years = {}\n",
    "    for year in sorted(set(dict_gold.keys()) | set(dict_silver.keys()) | set(dict_bronze.keys())):\n",
    "        years[year] = dict_gold.get(year, 0) + dict_silver.get(year, 0) + dict_bronze.get(year, 0)\n",
    "\n",
    "    #x_values = years.keys()\n",
    "    x_values = []\n",
    "    y_values = []\n",
    "    for x in years:\n",
    "        x_values += [x]\n",
    "        y_values += [years[x]]\n",
    "        \n",
    "    return x_values, y_values"
   ]
  },
  {
   "cell_type": "code",
   "execution_count": 6,
   "metadata": {},
   "outputs": [],
   "source": [
    "def show_graph(x_values, y_values):\n",
    "    df=pd.DataFrame({'x_values': x_values, 'y_values': y_values })\n",
    "    \n",
    "    # plot\n",
    "    plt.plot( 'x_values', 'y_values', data=df)\n",
    "    plt.show()"
   ]
  },
  {
   "cell_type": "code",
   "execution_count": 7,
   "metadata": {},
   "outputs": [
    {
     "data": {
      "application/vnd.jupyter.widget-view+json": {
       "model_id": "d9501975d8404de9a24efeadfc80c887",
       "version_major": 2,
       "version_minor": 0
      },
      "text/plain": [
       "interactive(children=(Dropdown(description='Country', options=('Ukraine', 'Jordan', 'Macedonia', 'Slovakia', '…"
      ]
     },
     "metadata": {},
     "output_type": "display_data"
    }
   ],
   "source": [
    "interact(out, Country=[cc['country'] for cc in country_codes.find()]);"
   ]
  },
  {
   "cell_type": "code",
   "execution_count": 8,
   "metadata": {},
   "outputs": [],
   "source": [
    "all_data = list(aggregated_data.find({}))\n",
    "all_data[0]['medal_wins']['bronze']['sum'] + all_data[0]['medal_wins']['silver']['sum'] + all_data[0]['medal_wins']['gold']['sum']\n",
    "all_data[0]['health_expenditures']\n",
    "\n",
    "x_values = []\n",
    "y_values = []\n",
    "\n",
    "for country in all_data:\n",
    "    #print(country['country'])\n",
    "    #print(country['medal_wins']['bronze']['sum'] + country['medal_wins']['silver']['sum'] + country['medal_wins']['gold']['sum'])\n",
    "    #print(country['health_expenditures']['absolute'])\n",
    "    \n",
    "    break\n",
    "    "
   ]
  },
  {
   "cell_type": "code",
   "execution_count": 9,
   "metadata": {},
   "outputs": [
    {
     "data": {
      "image/png": "[encoded data removed]",
      "text/plain": [
       "<Figure size 1080x720 with 1 Axes>"
      ]
     },
     "metadata": {
      "needs_background": "light"
     },
     "output_type": "display_data"
    }
   ],
   "source": [
    "def medals(log=False, at_least=0, val='per_capita'):\n",
    "    medals_by_expenditures = {}\n",
    "    \n",
    "    for color in ['gold','silver','bronze']:\n",
    "        for row in aggregated_data.find():\n",
    "            exp = math.log10(row['health_expenditures'][val]) if log else row['health_expenditures'][val]\n",
    "            medals_by_expenditures[exp] = medals_by_expenditures.get(exp, 0) + sum(row['medal_wins'][color]['by_year'][year] for year in row['medal_wins'][color]['by_year'] if int(year) >= 2000)\n",
    "     \n",
    "    if log:\n",
    "        for k in medals_by_expenditures: \n",
    "            medals_by_expenditures[k] = math.log10(medals_by_expenditures[k]) if medals_by_expenditures[k] else 0\n",
    "        \n",
    "    return {k: v for k, v in medals_by_expenditures.items() if v >= at_least}\n",
    "    \n",
    "data = medals(log=True, at_least=1, val='absolute')\n",
    "plt.figure(figsize=(15, 10))\n",
    "plt.scatter(data.keys(), data.values(), vmin=0)\n",
    "plt.savefig('absolute.png')"
   ]
  },
  {
   "cell_type": "code",
   "execution_count": 10,
   "metadata": {},
   "outputs": [
    {
     "data": {
      "image/png": "[encoded data removed]",
      "text/plain": [
       "<Figure size 1080x720 with 1 Axes>"
      ]
     },
     "metadata": {
      "needs_background": "light"
     },
     "output_type": "display_data"
    }
   ],
   "source": [
    "data = medals(log=True, at_least=1, val='per_capita')\n",
    "plt.figure(figsize=(15, 10))\n",
    "plt.scatter(data.keys(), data.values(), vmin=0)\n",
    "plt.savefig('per_capita.png')"
   ]
  },
  {
   "cell_type": "code",
   "execution_count": 11,
   "metadata": {},
   "outputs": [],
   "source": [
    "top_countries = {}\n",
    "#{'countryname': {'silver':int, ..., 'sum': int, 'absolute': float, 'per_capita': float}}\n",
    "\n",
    "for row in aggregated_data.find():\n",
    "    country_name = row['country']\n",
    "    \n",
    "    absolute, relative = row['health_expenditures']['absolute'], row['health_expenditures']['per_capita']\n",
    "    top_countries[country_name] = {\n",
    "        'bronze': (b:=sum([row['medal_wins']['bronze']['by_year'][year] for year in row['medal_wins']['bronze']['by_year'] if int(year) >= 2000])),\n",
    "        'silver': (s:=sum([row['medal_wins']['silver']['by_year'][year] for year in row['medal_wins']['silver']['by_year'] if int(year) >= 2000])),\n",
    "        'gold': (g:=sum([row['medal_wins']['gold']['by_year'][year] for year in row['medal_wins']['gold']['by_year'] if int(year) >= 2000])),\n",
    "        'sum': b+s+g,\n",
    "        'absolute': absolute,\n",
    "        'per_capita': relative,\n",
    "    }\n",
    "\n",
    "sorted_by_expenditure_rel = sorted(top_countries.items(), key=lambda x: x[1]['per_capita'], reverse=True)\n",
    "sorted_by_expenditure_abs = sorted(top_countries.items(), key=lambda x: x[1]['absolute'], reverse=True)\n",
    "sorted_by_medals = sorted(top_countries.items(), key=lambda x: x[1]['sum'], reverse=True)"
   ]
  },
  {
   "cell_type": "code",
   "execution_count": 12,
   "metadata": {},
   "outputs": [
    {
     "data": {
      "image/png": "[encoded data removed]",
      "text/plain": [
       "<Figure size 720x360 with 1 Axes>"
      ]
     },
     "metadata": {
      "needs_background": "light"
     },
     "output_type": "display_data"
    }
   ],
   "source": [
    "silver = list(x[1]['silver'] for x in sorted_by_medals[:10])\n",
    "gold = list(x[1]['gold'] for x in sorted_by_medals[:10])\n",
    "bronze = list(x[1]['bronze'] for x in sorted_by_medals[:10])\n",
    "\n",
    "plt.figure(figsize=(10,5))\n",
    "\n",
    "plt.bar(list(x[0] for x in sorted_by_medals[:10]), bronze, color=(0.80,0.50,0.20))\n",
    "plt.bar(list(x[0] for x in sorted_by_medals[:10]), silver, bottom=bronze, color=(0.75,0.75,0.75))\n",
    "bottom_gold = [a+b for a,b in zip(silver, bronze)]\n",
    "plt.bar(list(x[0] for x in sorted_by_medals[:10]), gold, bottom=bottom_gold, color=(1.00,0.84,0.00))\n",
    "plt.savefig('medals_by_color.png', dpi=150)\n",
    "plt.show()"
   ]
  },
  {
   "cell_type": "code",
   "execution_count": 13,
   "metadata": {},
   "outputs": [
    {
     "data": {
      "image/png": "[encoded data removed]",
      "text/plain": [
       "<Figure size 720x360 with 1 Axes>"
      ]
     },
     "metadata": {
      "needs_background": "light"
     },
     "output_type": "display_data"
    }
   ],
   "source": [
    "plt.figure(figsize=(10,5))\n",
    "silver = list(x[1]['silver'] for x in sorted_by_medals[:10])\n",
    "gold = list(x[1]['gold'] for x in sorted_by_medals[:10])\n",
    "bronze = list(x[1]['bronze'] for x in sorted_by_medals[:10])\n",
    "\n",
    "plt.bar(np.arange(10) + 0.4, list((x[1]['absolute'] / 1750) for x in sorted_by_medals[:10]), width=0.4)\n",
    "\n",
    "plt.bar(list(x[0] for x in sorted_by_medals[:10]), bronze, color=(0.80,0.50,0.20), width=0.4)\n",
    "plt.bar(list(x[0] for x in sorted_by_medals[:10]), silver, bottom=bronze, color=(0.75,0.75,0.75), width=0.4)\n",
    "bottom_gold = [a + b for a,b in zip(silver, bronze)]\n",
    "plt.bar(list(x[0] for x in sorted_by_medals[:10]), gold, bottom=bottom_gold, color=(1.00,0.84,0.00), width=0.4)\n",
    "plt.savefig('medals_by_color_absolute.png', dpi=150)\n",
    "plt.show()"
   ]
  },
  {
   "cell_type": "code",
   "execution_count": 14,
   "metadata": {},
   "outputs": [
    {
     "data": {
      "image/png": "[encoded data removed]",
      "text/plain": [
       "<Figure size 720x360 with 1 Axes>"
      ]
     },
     "metadata": {
      "needs_background": "light"
     },
     "output_type": "display_data"
    }
   ],
   "source": [
    "plt.figure(figsize=(10,5))\n",
    "silver = list(x[1]['silver'] for x in sorted_by_medals[:10])\n",
    "gold = list(x[1]['gold'] for x in sorted_by_medals[:10])\n",
    "bronze = list(x[1]['bronze'] for x in sorted_by_medals[:10])\n",
    "\n",
    "plt.bar(np.arange(10) + 0.4, list((x[1]['per_capita']/5) for x in sorted_by_medals[:10]), width=0.4)\n",
    "\n",
    "plt.bar(list(x[0] for x in sorted_by_medals[:10]), bronze, color=(0.80,0.50,0.20), width=0.4)\n",
    "plt.bar(list(x[0] for x in sorted_by_medals[:10]), silver, bottom=bronze, color=(0.75,0.75,0.75), width=0.4)\n",
    "bottom_gold = [a + b for a,b in zip(silver, bronze)]\n",
    "plt.bar(list(x[0] for x in sorted_by_medals[:10]), gold, bottom=bottom_gold, color=(1.00,0.84,0.00), width=0.4)\n",
    "plt.savefig('medals_by_color_relative.png', dpi=150)\n",
    "plt.show()"
   ]
  }
 ],
 "metadata": {
  "kernelspec": {
   "display_name": "Python 3",
   "language": "python",
   "name": "python3"
  },
  "language_info": {
   "codemirror_mode": {
    "name": "ipython",
    "version": 3
   },
   "file_extension": ".py",
   "mimetype": "text/x-python",
   "name": "python",
   "nbconvert_exporter": "python",
   "pygments_lexer": "ipython3",
   "version": "3.8.3"
  }
 },
 "nbformat": 4,
 "nbformat_minor": 4
}
