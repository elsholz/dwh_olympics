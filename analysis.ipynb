{
 "cells": [
  {
   "cell_type": "code",
   "execution_count": 238,
   "metadata": {},
   "outputs": [],
   "source": [
    "import pandas as pd\n",
    "import pprint\n",
    "import ipywidgets as widgets\n",
    "from ipywidgets import interact\n",
    "import matplotlib.pyplot as plt\n",
    "from pylab import rcParams\n",
    "rcParams['figure.figsize'] = 25, 13"
   ]
  },
  {
   "cell_type": "code",
   "execution_count": 239,
   "metadata": {},
   "outputs": [
    {
     "data": {
      "text/html": [
       "<style>.container { width:100% !important; }</style>"
      ],
      "text/plain": [
       "<IPython.core.display.HTML object>"
      ]
     },
     "metadata": {},
     "output_type": "display_data"
    }
   ],
   "source": [
    "from pymongo import MongoClient\n",
    "\n",
    "from IPython.core.display import display, HTML\n",
    "[display(HTML(\"<style>.container { width:100% !important; }</style>\"))];"
   ]
  },
  {
   "cell_type": "markdown",
   "metadata": {},
   "source": [
    "## Überschrift"
   ]
  },
  {
   "cell_type": "code",
   "execution_count": 240,
   "metadata": {},
   "outputs": [],
   "source": [
    "with MongoClient('mongodb://localhost:27017/') as client:\n",
    "    database = client[\"dwh\"]\n",
    "    aggregated_data = database.aggregated_data\n",
    "    country_codes = database.country_codes\n",
    "    medal_wins = database.medal_wins\n",
    "    who_ppp_2017 = database.who_ppp_2017"
   ]
  },
  {
   "cell_type": "code",
   "execution_count": 241,
   "metadata": {},
   "outputs": [],
   "source": [
    "def out(Country):\n",
    "    #return list(aggregated_data.find({\"country\": Country}))\n",
    "    #values = list(aggregated_data.find({\"country\": 'Germany'}))[0]['medal_wins']['gold']['by_year']\n",
    "    data = aggregated_data.find({\"country\": Country})\n",
    "    x_values, y_values = get_medals(data)\n",
    "    show_graph(x_values, y_values)\n",
    "    return 0"
   ]
  },
  {
   "cell_type": "code",
   "execution_count": 242,
   "metadata": {},
   "outputs": [],
   "source": [
    "data = list(aggregated_data.find({\"country\": 'Germany'}))"
   ]
  },
  {
   "cell_type": "code",
   "execution_count": 243,
   "metadata": {},
   "outputs": [],
   "source": [
    "x_values, y_values = get_medals(data)"
   ]
  },
  {
   "cell_type": "code",
   "execution_count": 244,
   "metadata": {},
   "outputs": [],
   "source": [
    "def get_medals(data):\n",
    "    # Get all gold medals, sorting the dict\n",
    "    dict_gold = data[0]['medal_wins']['gold']['by_year']\n",
    "    dict_gold = {k: dict_gold[k] for k in sorted(dict_gold.keys(), key=lambda x: int(x))}\n",
    "    \n",
    "    # Get all silver medals, sorting the dict\n",
    "    dict_silver = data[0]['medal_wins']['silver']['by_year']\n",
    "    dict_silver = {k: dict_silver[k] for k in sorted(dict_silver.keys(), key=lambda x: int(x))}\n",
    "    \n",
    "    # Get all bronze medals, sorting the dict\n",
    "    dict_bronze = data[0]['medal_wins']['bronze']['by_year']\n",
    "    dict_bronze = {k: dict_bronze[k] for k in sorted(dict_bronze.keys(), key=lambda x: int(x))}\n",
    "    \n",
    "    \n",
    "    # Defining x and y values for the graph\n",
    "    years = {}\n",
    "    for year in sorted(set(dict_gold.keys()) | set(dict_silver.keys()) | set(dict_bronze.keys())):\n",
    "        years[year] = dict_gold.get(year, 0) + dict_silver.get(year, 0) + dict_bronze.get(year, 0)\n",
    "\n",
    "    #x_values = years.keys()\n",
    "    x_values = []\n",
    "    y_values = []\n",
    "    for x in years:\n",
    "        x_values += [x]\n",
    "        y_values += [years[x]]\n",
    "        \n",
    "    return x_values, y_values"
   ]
  },
  {
   "cell_type": "code",
   "execution_count": 250,
   "metadata": {},
   "outputs": [],
   "source": [
    "def get_expenditure(data):\n",
    "    return data[0]['health_expenditures']"
   ]
  },
  {
   "cell_type": "code",
   "execution_count": 262,
   "metadata": {},
   "outputs": [
    {
     "name": "stdout",
     "output_type": "stream",
     "text": [
      "Per Capita: 488745.8977\n",
      "Absolute: 5922.63824\n"
     ]
    }
   ],
   "source": [
    "test_data = get_expenditure(data)\n",
    "per_capita = test_data['per_capita']\n",
    "absolute = test_data['absolute']\n",
    "print('Per Capita: ' + str(per_capita))\n",
    "print('Absolute: ' + str(absolute))"
   ]
  },
  {
   "cell_type": "code",
   "execution_count": 245,
   "metadata": {},
   "outputs": [],
   "source": [
    "def show_graph(x_values, y_values):\n",
    "    df=pd.DataFrame({'x_values': x_values, 'y_values': y_values })\n",
    "    \n",
    "    # plot\n",
    "    plt.plot( 'x_values', 'y_values', data=df)\n",
    "    plt.show()"
   ]
  },
  {
   "cell_type": "code",
   "execution_count": 246,
   "metadata": {},
   "outputs": [
    {
     "data": {
      "application/vnd.jupyter.widget-view+json": {
       "model_id": "5b234727e32542a192daef6b79f2154a",
       "version_major": 2,
       "version_minor": 0
      },
      "text/plain": [
       "interactive(children=(Dropdown(description='Country', options=('Ukraine', 'Jordan', 'Macedonia', 'Slovakia', '…"
      ]
     },
     "metadata": {},
     "output_type": "display_data"
    }
   ],
   "source": [
    "interact(out, Country=[cc['country'] for cc in country_codes.find()]);"
   ]
  },
  {
   "cell_type": "code",
   "execution_count": null,
   "metadata": {},
   "outputs": [],
   "source": []
  }
 ],
 "metadata": {
  "kernelspec": {
   "display_name": "Python 3",
   "language": "python",
   "name": "python3"
  },
  "language_info": {
   "codemirror_mode": {
    "name": "ipython",
    "version": 3
   },
   "file_extension": ".py",
   "mimetype": "text/x-python",
   "name": "python",
   "nbconvert_exporter": "python",
   "pygments_lexer": "ipython3",
   "version": "3.8.3"
  }
 },
 "nbformat": 4,
 "nbformat_minor": 4
}
