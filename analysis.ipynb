{
 "cells": [
  {
   "cell_type": "code",
   "execution_count": 71,
   "metadata": {},
   "outputs": [],
   "source": [
    "import pandas as pd\n",
    "import pprint\n",
    "import ipywidgets as widgets\n",
    "from ipywidgets import interact\n",
    "import matplotlib.pyplot as plt\n",
    "import math\n",
    "from pylab import rcParams\n",
    "rcParams['figure.figsize'] = 25, 13"
   ]
  },
  {
   "cell_type": "code",
   "execution_count": 2,
   "metadata": {},
   "outputs": [
    {
     "data": {
      "text/html": [
       "<style>.container { width:100% !important; }</style>"
      ],
      "text/plain": [
       "<IPython.core.display.HTML object>"
      ]
     },
     "metadata": {},
     "output_type": "display_data"
    }
   ],
   "source": [
    "from pymongo import MongoClient\n",
    "\n",
    "from IPython.core.display import display, HTML\n",
    "[display(HTML(\"<style>.container { width:100% !important; }</style>\"))];"
   ]
  },
  {
   "cell_type": "code",
   "execution_count": 13,
   "metadata": {},
   "outputs": [],
   "source": [
    "with MongoClient('mongodb://localhost:27017/') as client:\n",
    "    database = client[\"dwh\"]\n",
    "    aggregated_data = database.aggregated_data\n",
    "    country_codes = database.country_codes\n",
    "    medal_wins = database.medal_wins\n",
    "    who_ppp_2017 = database.who_ppp_2017"
   ]
  },
  {
   "cell_type": "code",
   "execution_count": 14,
   "metadata": {},
   "outputs": [],
   "source": [
    "def out(Country):\n",
    "    #return list(aggregated_data.find({\"country\": Country}))\n",
    "    #values = list(aggregated_data.find({\"country\": 'Germany'}))[0]['medal_wins']['gold']['by_year']\n",
    "    data = aggregated_data.find({\"country\": Country})\n",
    "    x_values, y_values = get_medals(data)\n",
    "    show_graph(x_values, y_values)\n",
    "    return 0"
   ]
  },
  {
   "cell_type": "code",
   "execution_count": 15,
   "metadata": {},
   "outputs": [],
   "source": [
    "def get_medals(data):\n",
    "    # Get all gold medals, sorting the dict\n",
    "    dict_gold = data[0]['medal_wins']['gold']['by_year']\n",
    "    dict_gold = {k: dict_gold[k] for k in sorted(dict_gold.keys(), key=lambda x: int(x))}\n",
    "    \n",
    "    # Get all silver medals, sorting the dict\n",
    "    dict_silver = data[0]['medal_wins']['silver']['by_year']\n",
    "    dict_silver = {k: dict_silver[k] for k in sorted(dict_silver.keys(), key=lambda x: int(x))}\n",
    "    \n",
    "    # Get all bronze medals, sorting the dict\n",
    "    dict_bronze = data[0]['medal_wins']['bronze']['by_year']\n",
    "    dict_bronze = {k: dict_bronze[k] for k in sorted(dict_bronze.keys(), key=lambda x: int(x))}\n",
    "    \n",
    "    \n",
    "    # Defining x and y values for the graph\n",
    "    years = {}\n",
    "    for year in sorted(set(dict_gold.keys()) | set(dict_silver.keys()) | set(dict_bronze.keys())):\n",
    "        years[year] = dict_gold.get(year, 0) + dict_silver.get(year, 0) + dict_bronze.get(year, 0)\n",
    "\n",
    "    #x_values = years.keys()\n",
    "    x_values = []\n",
    "    y_values = []\n",
    "    for x in years:\n",
    "        x_values += [x]\n",
    "        y_values += [years[x]]\n",
    "        \n",
    "    return x_values, y_values"
   ]
  },
  {
   "cell_type": "code",
   "execution_count": 18,
   "metadata": {},
   "outputs": [],
   "source": [
    "def show_graph(x_values, y_values):\n",
    "    df=pd.DataFrame({'x_values': x_values, 'y_values': y_values })\n",
    "    \n",
    "    # plot\n",
    "    plt.plot( 'x_values', 'y_values', data=df)\n",
    "    plt.show()"
   ]
  },
  {
   "cell_type": "code",
   "execution_count": 19,
   "metadata": {},
   "outputs": [
    {
     "data": {
      "application/vnd.jupyter.widget-view+json": {
       "model_id": "ac0b544a13ac4f54b328d0bd1575d94b",
       "version_major": 2,
       "version_minor": 0
      },
      "text/plain": [
       "interactive(children=(Dropdown(description='Country', options=('Ukraine', 'Jordan', 'Macedonia', 'Slovakia', '…"
      ]
     },
     "metadata": {},
     "output_type": "display_data"
    }
   ],
   "source": [
    "interact(out, Country=[cc['country'] for cc in country_codes.find()]);"
   ]
  },
  {
   "cell_type": "code",
   "execution_count": 68,
   "metadata": {},
   "outputs": [],
   "source": [
    "all_data = list(aggregated_data.find({}))\n",
    "all_data[0]['medal_wins']['bronze']['sum'] + all_data[0]['medal_wins']['silver']['sum'] + all_data[0]['medal_wins']['gold']['sum']\n",
    "all_data[0]['health_expenditures']\n",
    "\n",
    "x_values = []\n",
    "y_values = []\n",
    "\n",
    "for country in all_data:\n",
    "    #print(country['country'])\n",
    "    #print(country['medal_wins']['bronze']['sum'] + country['medal_wins']['silver']['sum'] + country['medal_wins']['gold']['sum'])\n",
    "    #print(country['health_expenditures']['absolute'])\n",
    "    \n",
    "    break\n",
    "    "
   ]
  },
  {
   "cell_type": "code",
   "execution_count": 84,
   "metadata": {},
   "outputs": [
    {
     "data": {
      "text/plain": [
       "<matplotlib.collections.PathCollection at 0x1f3f35dd640>"
      ]
     },
     "execution_count": 84,
     "metadata": {},
     "output_type": "execute_result"
    },
    {
     "data": {
      "image/png": "[encoded data removed]",
      "text/plain": [
       "<Figure size 1800x936 with 1 Axes>"
      ]
     },
     "metadata": {
      "needs_background": "light"
     },
     "output_type": "display_data"
    }
   ],
   "source": [
    "medals_by_expenditures = {}\n",
    "medals_by_expenditures_log = {}\n",
    "for color in ['gold','silver','bronze']:\n",
    "    for row in aggregated_data.find():\n",
    "        exp = math.log(row['health_expenditures']['per_capita'])\n",
    "        medals_by_expenditures[exp] = medals_by_expenditures.get(exp, 0) + sum(row['medal_wins'][color]['by_year'][year] for year in row['medal_wins'][color]['by_year'] if int(year) >= 2000)\n",
    "        medals_by_expenditures_log[exp] = math.log(medals_by_expenditures[exp]) if medals_by_expenditures[exp] > 2 else 0\n",
    "        \n",
    "for k in medals_by_expenditures_log:\n",
    "    medals_by_expenditures_log[k] = math.log(medals_by_expenditures_log[k]) if medals_by_expenditures_log[k] else 0\n",
    "    \n",
    "plt.scatter(medals_by_expenditures_log.keys(), medals_by_expenditures_log.values())"
   ]
  },
  {
   "cell_type": "code",
   "execution_count": null,
   "metadata": {},
   "outputs": [],
   "source": []
  }
 ],
 "metadata": {
  "kernelspec": {
   "display_name": "Python 3",
   "language": "python",
   "name": "python3"
  },
  "language_info": {
   "codemirror_mode": {
    "name": "ipython",
    "version": 3
   },
   "file_extension": ".py",
   "mimetype": "text/x-python",
   "name": "python",
   "nbconvert_exporter": "python",
   "pygments_lexer": "ipython3",
   "version": "3.8.3"
  }
 },
 "nbformat": 4,
 "nbformat_minor": 4
}
