{
 "cells": [
  {
   "cell_type": "code",
   "execution_count": 1,
   "metadata": {},
   "outputs": [],
   "source": [
    "import pandas as pd\n",
    "import re\n",
    "\n",
    "cc_who = pd.read_csv('data/cc_who.csv')\n",
    "cc_noc = pd.read_csv('data/cc_noc.csv')"
   ]
  },
  {
   "cell_type": "code",
   "execution_count": 2,
   "metadata": {},
   "outputs": [
    {
     "name": "stdout",
     "output_type": "stream",
     "text": [
      "(185, 2) (209, 2)\n",
      "Index(['Country Code', 'Country Name'], dtype='object') Index(['NOC', 'Team'], dtype='object')\n"
     ]
    }
   ],
   "source": [
    "print(cc_who.shape, cc_noc.shape)\n",
    "print(cc_who.columns, cc_noc.columns)"
   ]
  },
  {
   "cell_type": "code",
   "execution_count": 3,
   "metadata": {},
   "outputs": [
    {
     "data": {
      "text/plain": [
       "183"
      ]
     },
     "execution_count": 3,
     "metadata": {},
     "output_type": "execute_result"
    }
   ],
   "source": [
    "from data.used_cc_who import used_cc_who\n",
    "len(used_cc_who)"
   ]
  },
  {
   "cell_type": "code",
   "execution_count": 4,
   "metadata": {},
   "outputs": [
    {
     "name": "stdout",
     "output_type": "stream",
     "text": [
      "{'Bolivia Plurinational States of '}\n"
     ]
    },
    {
     "data": {
      "text/plain": [
       "(182, 2)"
      ]
     },
     "execution_count": 4,
     "metadata": {},
     "output_type": "execute_result"
    }
   ],
   "source": [
    "# Filter missing lines\n",
    "print(used_cc_who - set(cc_who['Country Name']))\n",
    "cc_who = cc_who[cc_who['Country Name'].isin(used_cc_who & set(cc_who['Country Name']))]\n",
    "cc_who.shape"
   ]
  },
  {
   "cell_type": "code",
   "execution_count": 5,
   "metadata": {},
   "outputs": [],
   "source": [
    "def join_by_cc(who, noc):\n",
    "    res = {}\n",
    "    \n",
    "    \n",
    "    codes_intersect = set(who.keys()) & set(noc.keys())\n",
    "    \n",
    "    for code in codes_intersect:\n",
    "        k_noc = noc[code]\n",
    "        k_who = who[code]\n",
    "        k = k_noc if len(k_noc) < len(k_who) else k_who\n",
    "        \n",
    "        res[k] = {'who':code, 'noc':code}\n",
    "    \n",
    "    return res    "
   ]
  },
  {
   "cell_type": "code",
   "execution_count": 6,
   "metadata": {},
   "outputs": [],
   "source": [
    "def join_by_name(who, noc, clusters):\n",
    "    for code_who, name_who in who.items():\n",
    "        for code_noc, name_noc in noc.items():\n",
    "            if name_who == name_noc and code_who != code_noc:\n",
    "                clusters[min(name_who, name_noc)] = {'noc': code_noc, 'who': code_who}\n",
    "    \n",
    "    return clusters"
   ]
  },
  {
   "cell_type": "code",
   "execution_count": 7,
   "metadata": {},
   "outputs": [
    {
     "data": {
      "text/html": [
       "<div>\n",
       "<style scoped>\n",
       "    .dataframe tbody tr th:only-of-type {\n",
       "        vertical-align: middle;\n",
       "    }\n",
       "\n",
       "    .dataframe tbody tr th {\n",
       "        vertical-align: top;\n",
       "    }\n",
       "\n",
       "    .dataframe thead th {\n",
       "        text-align: right;\n",
       "    }\n",
       "</style>\n",
       "<table border=\"1\" class=\"dataframe\">\n",
       "  <thead>\n",
       "    <tr style=\"text-align: right;\">\n",
       "      <th></th>\n",
       "      <th>country</th>\n",
       "      <th>code_who</th>\n",
       "      <th>code_noc</th>\n",
       "    </tr>\n",
       "  </thead>\n",
       "  <tbody>\n",
       "    <tr>\n",
       "      <th>0</th>\n",
       "      <td>Ukraine</td>\n",
       "      <td>UKR</td>\n",
       "      <td>UKR</td>\n",
       "    </tr>\n",
       "    <tr>\n",
       "      <th>1</th>\n",
       "      <td>Jordan</td>\n",
       "      <td>JOR</td>\n",
       "      <td>JOR</td>\n",
       "    </tr>\n",
       "    <tr>\n",
       "      <th>2</th>\n",
       "      <td>Macedonia</td>\n",
       "      <td>MKD</td>\n",
       "      <td>MKD</td>\n",
       "    </tr>\n",
       "    <tr>\n",
       "      <th>3</th>\n",
       "      <td>Slovakia</td>\n",
       "      <td>SVK</td>\n",
       "      <td>SVK</td>\n",
       "    </tr>\n",
       "    <tr>\n",
       "      <th>4</th>\n",
       "      <td>Venezuela</td>\n",
       "      <td>VEN</td>\n",
       "      <td>VEN</td>\n",
       "    </tr>\n",
       "    <tr>\n",
       "      <th>...</th>\n",
       "      <td>...</td>\n",
       "      <td>...</td>\n",
       "      <td>...</td>\n",
       "    </tr>\n",
       "    <tr>\n",
       "      <th>171</th>\n",
       "      <td>Vanuatu</td>\n",
       "      <td>VUT</td>\n",
       "      <td>VAN</td>\n",
       "    </tr>\n",
       "    <tr>\n",
       "      <th>172</th>\n",
       "      <td>Samoa</td>\n",
       "      <td>WSM</td>\n",
       "      <td>SAM</td>\n",
       "    </tr>\n",
       "    <tr>\n",
       "      <th>173</th>\n",
       "      <td>South Africa</td>\n",
       "      <td>ZAF</td>\n",
       "      <td>RSA</td>\n",
       "    </tr>\n",
       "    <tr>\n",
       "      <th>174</th>\n",
       "      <td>Zambia</td>\n",
       "      <td>ZMB</td>\n",
       "      <td>ZAM</td>\n",
       "    </tr>\n",
       "    <tr>\n",
       "      <th>175</th>\n",
       "      <td>Zimbabwe</td>\n",
       "      <td>ZWE</td>\n",
       "      <td>ZIM</td>\n",
       "    </tr>\n",
       "  </tbody>\n",
       "</table>\n",
       "<p>176 rows × 3 columns</p>\n",
       "</div>"
      ],
      "text/plain": [
       "          country code_who code_noc\n",
       "0         Ukraine      UKR      UKR\n",
       "1          Jordan      JOR      JOR\n",
       "2       Macedonia      MKD      MKD\n",
       "3        Slovakia      SVK      SVK\n",
       "4       Venezuela      VEN      VEN\n",
       "..            ...      ...      ...\n",
       "171       Vanuatu      VUT      VAN\n",
       "172         Samoa      WSM      SAM\n",
       "173  South Africa      ZAF      RSA\n",
       "174        Zambia      ZMB      ZAM\n",
       "175      Zimbabwe      ZWE      ZIM\n",
       "\n",
       "[176 rows x 3 columns]"
      ]
     },
     "execution_count": 7,
     "metadata": {},
     "output_type": "execute_result"
    }
   ],
   "source": [
    "who = {b: re.sub(r'\\([^)]*\\)', '', a) for a, b in zip(cc_who['Country Name'], cc_who['Country Code'])}\n",
    "noc = {b: re.sub(r'\\([^)]*\\)', '', a) for a, b in zip(cc_noc['Team'], cc_noc['NOC'])}\n",
    "\n",
    "\n",
    "countries = join_by_cc(who, noc)\n",
    "countries = join_by_name(who, noc, countries)\n",
    "\n",
    "countries = pd.DataFrame(data=[(k, v['who'], v['noc']) for k, v in countries.items()], columns=['country', 'code_who', 'code_noc'])\n",
    "countries"
   ]
  },
  {
   "cell_type": "code",
   "execution_count": 10,
   "metadata": {},
   "outputs": [],
   "source": [
    "countries.to_csv('data/country_codes.csv', index=False)"
   ]
  }
 ],
 "metadata": {
  "kernelspec": {
   "display_name": "Python 3",
   "language": "python",
   "name": "python3"
  },
  "language_info": {
   "codemirror_mode": {
    "name": "ipython",
    "version": 3
   },
   "file_extension": ".py",
   "mimetype": "text/x-python",
   "name": "python",
   "nbconvert_exporter": "python",
   "pygments_lexer": "ipython3",
   "version": "3.8.3"
  },
  "pycharm": {
   "stem_cell": {
    "cell_type": "raw",
    "metadata": {
     "collapsed": false
    },
    "source": []
   }
  }
 },
 "nbformat": 4,
 "nbformat_minor": 1
}
