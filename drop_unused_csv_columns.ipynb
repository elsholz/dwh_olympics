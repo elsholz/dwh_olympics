{
 "cells": [
  {
   "cell_type": "code",
   "execution_count": 1,
   "metadata": {},
   "outputs": [
    {
     "data": {
      "text/html": [
       "<style>.container { width:100% !important; }</style>"
      ],
      "text/plain": [
       "<IPython.core.display.HTML object>"
      ]
     },
     "metadata": {},
     "output_type": "display_data"
    }
   ],
   "source": [
    "import pandas as pd\n",
    "\n",
    "from IPython.core.display import display, HTML\n",
    "[display(HTML(\"<style>.container { width:100% !important; }</style>\"))]\n",
    "\n",
    "ppp = pd.read_csv('./data/Constant_2017_PPP_per_capita.csv', error_bad_lines=False, delimiter=';',decimal=',')\n",
    "ppp_abs = pd.read_csv('./data/Million_constant_2017_PPP.csv', error_bad_lines=False, delimiter=';',decimal=',')"
   ]
  },
  {
   "cell_type": "code",
   "execution_count": 2,
   "metadata": {},
   "outputs": [
    {
     "data": {
      "text/plain": [
       "Index(['Country Name', 'Country Code', 'Country WHO Region',\n",
       "       'Country Income Group', 'Indicator Name', 'Indicator Code',\n",
       "       'Indicator Unit', 'Comments', 'Methods of estimation', 'Sources',\n",
       "       'Data type', 'Footnote', 'Year', 'Value', 'Comments  (observation)',\n",
       "       'Sources (observation)', 'Data type (observation)',\n",
       "       'Last updated (observation)', 'Methods of estimation (observation)',\n",
       "       'Validation (observation)', 'Column1'],\n",
       "      dtype='object')"
      ]
     },
     "execution_count": 2,
     "metadata": {},
     "output_type": "execute_result"
    }
   ],
   "source": [
    "ppp.columns"
   ]
  },
  {
   "cell_type": "code",
   "execution_count": 3,
   "metadata": {},
   "outputs": [
    {
     "name": "stdout",
     "output_type": "stream",
     "text": [
      "(185, 3) (183, 3)\n"
     ]
    },
    {
     "name": "stderr",
     "output_type": "stream",
     "text": [
      "<ipython-input-3-f551e8a97b33>:2: UserWarning: Boolean Series key will be reindexed to match DataFrame index.\n",
      "  cleaned_ppp = ppp[ppp['Year'] == 2017][ppp['Indicator Code'] == 'sha11.HF'][columns]\n",
      "<ipython-input-3-f551e8a97b33>:3: UserWarning: Boolean Series key will be reindexed to match DataFrame index.\n",
      "  cleaned_ppp_abs = ppp_abs[ppp_abs['Year'] == 2017][ppp_abs['Indicator Code'] == 'sha11.HF'][columns]\n"
     ]
    }
   ],
   "source": [
    "columns = ['Country Name', 'Country Code', 'Value']\n",
    "cleaned_ppp = ppp[ppp['Year'] == 2017][ppp['Indicator Code'] == 'sha11.HF'][columns]\n",
    "cleaned_ppp_abs = ppp_abs[ppp_abs['Year'] == 2017][ppp_abs['Indicator Code'] == 'sha11.HF'][columns]\n",
    "\n",
    "print(cleaned_ppp.shape, cleaned_ppp_abs.shape)"
   ]
  },
  {
   "cell_type": "code",
   "execution_count": 4,
   "metadata": {},
   "outputs": [
    {
     "name": "stdout",
     "output_type": "stream",
     "text": [
      "{'Albania', 'Saudi Arabia'}\n",
      "(183, 3) (183, 3)\n"
     ]
    }
   ],
   "source": [
    "common_countries = set(cleaned_ppp['Country Name']) & set(cleaned_ppp_abs['Country Name'])\n",
    "print(set(cleaned_ppp['Country Name']) - set(cleaned_ppp_abs['Country Name']))\n",
    "cleaned_ppp = cleaned_ppp[cleaned_ppp['Country Name'].isin(common_countries)]\n",
    "cleaned_ppp_abs = cleaned_ppp_abs[cleaned_ppp_abs['Country Name'].isin(common_countries)]\n",
    "\n",
    "print(cleaned_ppp.shape, cleaned_ppp_abs.shape)"
   ]
  },
  {
   "cell_type": "code",
   "execution_count": 5,
   "metadata": {},
   "outputs": [],
   "source": [
    "cleaned_ppp.to_csv('data/ppp_2017_pc.csv')\n",
    "cleaned_ppp_abs.to_csv('data/ppp_2017_abs.csv')"
   ]
  },
  {
   "cell_type": "code",
   "execution_count": 6,
   "metadata": {},
   "outputs": [],
   "source": [
    "with open('data/used_cc_who.py', 'w') as fout:\n",
    "    fout.write(f'used_cc_who = {str(common_countries)}')"
   ]
  }
 ],
 "metadata": {
  "kernelspec": {
   "display_name": "PyCharm (data_analytics)",
   "language": "python",
   "name": "pycharm-caae33a3"
  },
  "language_info": {
   "codemirror_mode": {
    "name": "ipython",
    "version": 3
   },
   "file_extension": ".py",
   "mimetype": "text/x-python",
   "name": "python",
   "nbconvert_exporter": "python",
   "pygments_lexer": "ipython3",
   "version": "3.8.3"
  }
 },
 "nbformat": 4,
 "nbformat_minor": 4
}
