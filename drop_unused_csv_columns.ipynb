{
 "cells": [
  {
   "cell_type": "code",
   "execution_count": 1,
   "metadata": {},
   "outputs": [
    {
     "data": {
      "text/html": [
       "<style>.container { width:100% !important; }</style>"
      ],
      "text/plain": [
       "<IPython.core.display.HTML object>"
      ]
     },
     "metadata": {},
     "output_type": "display_data"
    }
   ],
   "source": [
    "import pandas as pd\n",
    "\n",
    "from IPython.core.display import display, HTML\n",
    "[display(HTML(\"<style>.container { width:100% !important; }</style>\"))]\n",
    "\n",
    "ppp = pd.read_csv('./data/Constant_2017_PPP_per_capita.csv', error_bad_lines=False, delimiter=';',decimal=',')\n",
    "ppp_abs = pd.read_csv('./data/Million_constant_2017_PPP.csv', error_bad_lines=False, delimiter=';',decimal=',')"
   ]
  },
  {
   "cell_type": "code",
   "execution_count": 2,
   "metadata": {},
   "outputs": [
    {
     "data": {
      "text/plain": [
       "Index(['Country Name', 'Country Code', 'Country WHO Region',\n",
       "       'Country Income Group', 'Indicator Name', 'Indicator Code',\n",
       "       'Indicator Unit', 'Comments', 'Methods of estimation', 'Sources',\n",
       "       'Data type', 'Footnote', 'Year', 'Value', 'Comments  (observation)',\n",
       "       'Sources (observation)', 'Data type (observation)',\n",
       "       'Last updated (observation)', 'Methods of estimation (observation)',\n",
       "       'Validation (observation)', 'Column1'],\n",
       "      dtype='object')"
      ]
     },
     "execution_count": 2,
     "metadata": {},
     "output_type": "execute_result"
    }
   ],
   "source": [
    "ppp.columns"
   ]
  },
  {
   "cell_type": "code",
   "execution_count": 3,
   "metadata": {},
   "outputs": [
    {
     "name": "stdout",
     "output_type": "stream",
     "text": [
      "(185, 3) (183, 3)\n"
     ]
    },
    {
     "name": "stderr",
     "output_type": "stream",
     "text": [
      "<ipython-input-3-f551e8a97b33>:2: UserWarning: Boolean Series key will be reindexed to match DataFrame index.\n",
      "  cleaned_ppp = ppp[ppp['Year'] == 2017][ppp['Indicator Code'] == 'sha11.HF'][columns]\n",
      "<ipython-input-3-f551e8a97b33>:3: UserWarning: Boolean Series key will be reindexed to match DataFrame index.\n",
      "  cleaned_ppp_abs = ppp_abs[ppp_abs['Year'] == 2017][ppp_abs['Indicator Code'] == 'sha11.HF'][columns]\n"
     ]
    }
   ],
   "source": [
    "columns = ['Country Name', 'Country Code', 'Value']\n",
    "cleaned_ppp = ppp[ppp['Year'] == 2017][ppp['Indicator Code'] == 'sha11.HF'][columns]\n",
    "cleaned_ppp_abs = ppp_abs[ppp_abs['Year'] == 2017][ppp_abs['Indicator Code'] == 'sha11.HF'][columns]\n",
    "\n",
    "print(cleaned_ppp.shape, cleaned_ppp_abs.shape)"
   ]
  },
  {
   "cell_type": "code",
   "execution_count": 4,
   "metadata": {},
   "outputs": [
    {
     "name": "stdout",
     "output_type": "stream",
     "text": [
      "{'Albania', 'Saudi Arabia'}\n",
      "(183, 3) (183, 3)\n"
     ]
    }
   ],
   "source": [
    "common_countries = set(cleaned_ppp['Country Name']) & set(cleaned_ppp_abs['Country Name'])\n",
    "print(set(cleaned_ppp['Country Name']) - set(cleaned_ppp_abs['Country Name']))\n",
    "cleaned_ppp = cleaned_ppp[cleaned_ppp['Country Name'].isin(common_countries)]\n",
    "cleaned_ppp_abs = cleaned_ppp_abs[cleaned_ppp_abs['Country Name'].isin(common_countries)]\n",
    "\n",
    "print(cleaned_ppp.shape, cleaned_ppp_abs.shape)"
   ]
  },
  {
   "cell_type": "code",
   "execution_count": 5,
   "metadata": {},
   "outputs": [],
   "source": [
    "cleaned_ppp.to_csv('data/ppp_2017_pc.csv')\n",
    "cleaned_ppp_abs.to_csv('data/ppp_2017_abs.csv')"
   ]
  },
  {
   "cell_type": "code",
   "execution_count": 6,
   "metadata": {},
   "outputs": [],
   "source": [
    "with open('data/used_cc_who.py', 'w') as fout:\n",
    "    fout.write(f'used_cc_who = {str(common_countries)}')"
   ]
  },
  {
   "cell_type": "code",
   "execution_count": 14,
   "metadata": {},
   "outputs": [
    {
     "data": {
      "text/html": [
       "<div>\n",
       "<style scoped>\n",
       "    .dataframe tbody tr th:only-of-type {\n",
       "        vertical-align: middle;\n",
       "    }\n",
       "\n",
       "    .dataframe tbody tr th {\n",
       "        vertical-align: top;\n",
       "    }\n",
       "\n",
       "    .dataframe thead th {\n",
       "        text-align: right;\n",
       "    }\n",
       "</style>\n",
       "<table border=\"1\" class=\"dataframe\">\n",
       "  <thead>\n",
       "    <tr style=\"text-align: right;\">\n",
       "      <th></th>\n",
       "      <th>NOC</th>\n",
       "      <th>Name</th>\n",
       "      <th>Year</th>\n",
       "      <th>Sport</th>\n",
       "      <th>Medal</th>\n",
       "    </tr>\n",
       "  </thead>\n",
       "  <tbody>\n",
       "    <tr>\n",
       "      <th>3</th>\n",
       "      <td>DEN</td>\n",
       "      <td>Edgar Lindenau Aabye</td>\n",
       "      <td>1900</td>\n",
       "      <td>Tug-Of-War</td>\n",
       "      <td>Gold</td>\n",
       "    </tr>\n",
       "    <tr>\n",
       "      <th>37</th>\n",
       "      <td>FIN</td>\n",
       "      <td>Arvo Ossian Aaltonen</td>\n",
       "      <td>1920</td>\n",
       "      <td>Swimming</td>\n",
       "      <td>Bronze</td>\n",
       "    </tr>\n",
       "    <tr>\n",
       "      <th>38</th>\n",
       "      <td>FIN</td>\n",
       "      <td>Arvo Ossian Aaltonen</td>\n",
       "      <td>1920</td>\n",
       "      <td>Swimming</td>\n",
       "      <td>Bronze</td>\n",
       "    </tr>\n",
       "    <tr>\n",
       "      <th>40</th>\n",
       "      <td>FIN</td>\n",
       "      <td>Juhamatti Tapio Aaltonen</td>\n",
       "      <td>2014</td>\n",
       "      <td>Ice Hockey</td>\n",
       "      <td>Bronze</td>\n",
       "    </tr>\n",
       "    <tr>\n",
       "      <th>41</th>\n",
       "      <td>FIN</td>\n",
       "      <td>Paavo Johannes Aaltonen</td>\n",
       "      <td>1948</td>\n",
       "      <td>Gymnastics</td>\n",
       "      <td>Bronze</td>\n",
       "    </tr>\n",
       "    <tr>\n",
       "      <th>...</th>\n",
       "      <td>...</td>\n",
       "      <td>...</td>\n",
       "      <td>...</td>\n",
       "      <td>...</td>\n",
       "      <td>...</td>\n",
       "    </tr>\n",
       "    <tr>\n",
       "      <th>271078</th>\n",
       "      <td>URS</td>\n",
       "      <td>Galina Ivanovna Zybina (-Fyodorova)</td>\n",
       "      <td>1956</td>\n",
       "      <td>Athletics</td>\n",
       "      <td>Silver</td>\n",
       "    </tr>\n",
       "    <tr>\n",
       "      <th>271080</th>\n",
       "      <td>URS</td>\n",
       "      <td>Galina Ivanovna Zybina (-Fyodorova)</td>\n",
       "      <td>1964</td>\n",
       "      <td>Athletics</td>\n",
       "      <td>Bronze</td>\n",
       "    </tr>\n",
       "    <tr>\n",
       "      <th>271082</th>\n",
       "      <td>POL</td>\n",
       "      <td>Bogusaw Zych</td>\n",
       "      <td>1980</td>\n",
       "      <td>Fencing</td>\n",
       "      <td>Bronze</td>\n",
       "    </tr>\n",
       "    <tr>\n",
       "      <th>271102</th>\n",
       "      <td>RUS</td>\n",
       "      <td>Olesya Nikolayevna Zykina</td>\n",
       "      <td>2000</td>\n",
       "      <td>Athletics</td>\n",
       "      <td>Bronze</td>\n",
       "    </tr>\n",
       "    <tr>\n",
       "      <th>271103</th>\n",
       "      <td>RUS</td>\n",
       "      <td>Olesya Nikolayevna Zykina</td>\n",
       "      <td>2004</td>\n",
       "      <td>Athletics</td>\n",
       "      <td>Silver</td>\n",
       "    </tr>\n",
       "  </tbody>\n",
       "</table>\n",
       "<p>39783 rows × 5 columns</p>\n",
       "</div>"
      ],
      "text/plain": [
       "        NOC                                 Name  Year       Sport   Medal\n",
       "3       DEN                 Edgar Lindenau Aabye  1900  Tug-Of-War    Gold\n",
       "37      FIN                 Arvo Ossian Aaltonen  1920    Swimming  Bronze\n",
       "38      FIN                 Arvo Ossian Aaltonen  1920    Swimming  Bronze\n",
       "40      FIN             Juhamatti Tapio Aaltonen  2014  Ice Hockey  Bronze\n",
       "41      FIN              Paavo Johannes Aaltonen  1948  Gymnastics  Bronze\n",
       "...     ...                                  ...   ...         ...     ...\n",
       "271078  URS  Galina Ivanovna Zybina (-Fyodorova)  1956   Athletics  Silver\n",
       "271080  URS  Galina Ivanovna Zybina (-Fyodorova)  1964   Athletics  Bronze\n",
       "271082  POL                         Bogusaw Zych  1980     Fencing  Bronze\n",
       "271102  RUS            Olesya Nikolayevna Zykina  2000   Athletics  Bronze\n",
       "271103  RUS            Olesya Nikolayevna Zykina  2004   Athletics  Silver\n",
       "\n",
       "[39783 rows x 5 columns]"
      ]
     },
     "execution_count": 14,
     "metadata": {},
     "output_type": "execute_result"
    }
   ],
   "source": [
    "athlete_events = pd.read_csv('data/athlete_events.csv')\n",
    "\n",
    "cleaned_medal_wins = athlete_events[athlete_events['Medal'].isin('Gold Silver Bronze'.split(' '))][['NOC', 'Name', 'Year', 'Sport', 'Medal']]\n",
    "cleaned_medal_wins"
   ]
  },
  {
   "cell_type": "code",
   "execution_count": 15,
   "metadata": {},
   "outputs": [],
   "source": [
    "cleaned_medal_wins.to_csv('data/medal_wins.csv')"
   ]
  }
 ],
 "metadata": {
  "kernelspec": {
   "display_name": "PyCharm (data_analytics)",
   "language": "python",
   "name": "pycharm-caae33a3"
  },
  "language_info": {
   "codemirror_mode": {
    "name": "ipython",
    "version": 3
   },
   "file_extension": ".py",
   "mimetype": "text/x-python",
   "name": "python",
   "nbconvert_exporter": "python",
   "pygments_lexer": "ipython3",
   "version": "3.8.3"
  }
 },
 "nbformat": 4,
 "nbformat_minor": 4
}
