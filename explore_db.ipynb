{
 "cells": [
  {
   "cell_type": "code",
   "execution_count": 1,
   "metadata": {},
   "outputs": [
    {
     "data": {
      "text/html": [
       "<style>.container { width:100% !important; }</style>"
      ],
      "text/plain": [
       "<IPython.core.display.HTML object>"
      ]
     },
     "metadata": {},
     "output_type": "display_data"
    }
   ],
   "source": [
    "from pymongo import MongoClient\n",
    "\n",
    "from IPython.core.display import display, HTML\n",
    "[display(HTML(\"<style>.container { width:100% !important; }</style>\"))];"
   ]
  },
  {
   "cell_type": "code",
   "execution_count": 2,
   "metadata": {},
   "outputs": [
    {
     "name": "stdout",
     "output_type": "stream",
     "text": [
      "Collection who_ppp_2017 has 183 Documents. Example: {'_id': ObjectId('5fa2b9f2b56aa0654679cf08'), 'cc': 'ATG', 'ppp': {'pc': 109.231299, 'abs': 1070.769116}}…\n",
      "Collection country_codes has 176 Documents. Example: {'_id': ObjectId('5fa2b9f1b56aa0654679ce57'), 'country': 'Ukraine', 'code': {'who': 'UKR', 'noc': 'UKR'}}…\n",
      "Collection aggregated_data has 176 Documents. Example: {'_id': ObjectId('5fa2ba27b56aa0654679d056'), 'country': 'Ukraine', 'code': {'who': 'UKR', 'noc': 'UKR'}, 'medal_wins': {'bronze': {'by_year': {'2016': 5, '1994': 1, '1996': 19, '1998': 0, '2000': 12, '2004': 31, '2006': 3, '2008': 16, '2012': 12, '2014': 1}, 'sum': 100}, 'silver': {'by_year': {'2016': 8, '1994': 0, '1996': 5, '1998': 1, '2000': 20, '2004': 8, '2006': 0, '2008': 5, '2012': 5, '2014': 0}, 'sum': 52}, 'gold': {'by_year': {'2016': 2, '1994': 1, '1996': 10, '1998': 0, '2000': 3, '20…\n",
      "Collection medal_wins has 149 Documents. Example: {'_id': ObjectId('5fa2ba1eb56aa0654679cfc0'), 'noc': 'DEN', 'wins': [{'name': 'Edgar Lindenau Aabye', 'year': 1900, 'sport': 'Tug-Of-War', 'medal': 'Gold'}, {'name': 'Georg Albert Christian Albertsen', 'year': 1920, 'sport': 'Gymnastics', 'medal': 'Gold'}, {'name': 'Ejler Arild Emil Allert', 'year': 1912, 'sport': 'Rowing', 'medal': 'Gold'}, {'name': 'Aage Jrgen Christian Andersen', 'year': 1906, 'sport': 'Football', 'medal': 'Gold'}, {'name': 'Anders Peter Andersen', 'year': 1908, 'sport': 'Wre…\n"
     ]
    }
   ],
   "source": [
    "with MongoClient('mongodb://localhost:27017/') as client:\n",
    "    database = client[\"dwh\"]\n",
    "    \n",
    "    collections = database.list_collection_names()\n",
    "    \n",
    "    for c in collections:\n",
    "        collection = database[c]\n",
    "        print(f'Collection {c} has {len(a := list(collection.find()))} Documents. Example: {str(a[0])[:500]}…')"
   ]
  }
 ],
 "metadata": {
  "kernelspec": {
   "display_name": "PyCharm (data_analytics)",
   "language": "python",
   "name": "pycharm-caae33a3"
  },
  "language_info": {
   "codemirror_mode": {
    "name": "ipython",
    "version": 3
   },
   "file_extension": ".py",
   "mimetype": "text/x-python",
   "name": "python",
   "nbconvert_exporter": "python",
   "pygments_lexer": "ipython3",
   "version": "3.8.3"
  }
 },
 "nbformat": 4,
 "nbformat_minor": 4
}
