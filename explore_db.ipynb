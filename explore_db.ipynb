{
 "cells": [
  {
   "cell_type": "code",
   "execution_count": 1,
   "metadata": {},
   "outputs": [
    {
     "data": {
      "text/html": [
       "<style>.container { width:100% !important; }</style>"
      ],
      "text/plain": [
       "<IPython.core.display.HTML object>"
      ]
     },
     "metadata": {},
     "output_type": "display_data"
    }
   ],
   "source": [
    "from pymongo import MongoClient\n",
    "\n",
    "from IPython.core.display import display, HTML\n",
    "[display(HTML(\"<style>.container { width:100% !important; }</style>\"))];"
   ]
  },
  {
   "cell_type": "code",
   "execution_count": 2,
   "metadata": {},
   "outputs": [
    {
     "name": "stdout",
     "output_type": "stream",
     "text": [
      "Collection country_codes has 176 Documents. Example: {'_id': ObjectId('5fa1b4c164c7020e81555368'), 'Ukraine': {'who': 'UKR', 'noc': 'UKR'}}…\n",
      "Collection medal_wins has 149 Documents. Example: {'_id': ObjectId('5fa1b4e564c7020e815554cf'), 'DEN': [{'name': 'Edgar Lindenau Aabye', 'year': 1900,…\n",
      "Collection who_ppp_2017 has 183 Documents. Example: {'_id': ObjectId('5fa1b4c164c7020e81555418'), 'ATG': {'pc': 109.231299, 'abs': 1070.769116}}…\n"
     ]
    }
   ],
   "source": [
    "with MongoClient('mongodb://localhost:27017/') as client:\n",
    "    database = client[\"dwh\"]\n",
    "    \n",
    "    collections = database.list_collection_names()\n",
    "    \n",
    "    for c in collections:\n",
    "        collection = database[c]\n",
    "        print(f'Collection {c} has {len(a := list(collection.find()))} Documents. Example: {str(a[0])[:100]}…')"
   ]
  }
 ],
 "metadata": {
  "kernelspec": {
   "display_name": "PyCharm (data_analytics)",
   "language": "python",
   "name": "pycharm-caae33a3"
  },
  "language_info": {
   "codemirror_mode": {
    "name": "ipython",
    "version": 3
   },
   "file_extension": ".py",
   "mimetype": "text/x-python",
   "name": "python",
   "nbconvert_exporter": "python",
   "pygments_lexer": "ipython3",
   "version": "3.8.3"
  }
 },
 "nbformat": 4,
 "nbformat_minor": 4
}
