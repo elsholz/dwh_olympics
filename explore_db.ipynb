{
 "cells": [
  {
   "cell_type": "code",
   "execution_count": 2,
   "metadata": {},
   "outputs": [
    {
     "data": {
      "text/html": [
       "<style>.container { width:100% !important; }</style>"
      ],
      "text/plain": [
       "<IPython.core.display.HTML object>"
      ]
     },
     "metadata": {},
     "output_type": "display_data"
    }
   ],
   "source": [
    "from pymongo import MongoClient\n",
    "\n",
    "from IPython.core.display import display, HTML\n",
    "[display(HTML(\"<style>.container { width:100% !important; }</style>\"))];"
   ]
  },
  {
   "cell_type": "code",
   "execution_count": 30,
   "metadata": {},
   "outputs": [
    {
     "name": "stdout",
     "output_type": "stream",
     "text": [
      "Collection country_codes has 176 Documents. Example: {'_id': ObjectId('5fa1a63d77fdb1325ffba872'), 'Ukraine': {'who': 'UKR', 'noc': 'UKR'}}\n",
      "Collection who_ppp_2017 has 183 Documents. Example: {'_id': ObjectId('5fa1a63d77fdb1325ffba922'), 'ATG': {'pc': 109.231299, 'abs': 1070.769116}}\n",
      "Collection medal_wins has 39783 Documents. Example: {'_id': ObjectId('5fa1a64177fdb1325ffba9d9'), 'test': 123}\n"
     ]
    }
   ],
   "source": [
    "with MongoClient('mongodb://localhost:27017/') as client:\n",
    "    database = client[\"dwh\"]\n",
    "    \n",
    "    collections = database.list_collection_names()\n",
    "    \n",
    "    for c in collections:\n",
    "        collection = database[c]\n",
    "        print(f'Collection {c} has {len(a := list(collection.find()))} Documents. Example: {a[0]}')"
   ]
  }
 ],
 "metadata": {
  "kernelspec": {
   "display_name": "PyCharm (data_analytics)",
   "language": "python",
   "name": "pycharm-caae33a3"
  },
  "language_info": {
   "codemirror_mode": {
    "name": "ipython",
    "version": 3
   },
   "file_extension": ".py",
   "mimetype": "text/x-python",
   "name": "python",
   "nbconvert_exporter": "python",
   "pygments_lexer": "ipython3",
   "version": "3.8.3"
  }
 },
 "nbformat": 4,
 "nbformat_minor": 4
}
